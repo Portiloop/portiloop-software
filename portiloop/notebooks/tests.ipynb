{
 "cells": [
  {
   "cell_type": "code",
   "execution_count": null,
   "id": "03282e66",
   "metadata": {
    "scrolled": false
   },
   "outputs": [],
   "source": [
    "from portiloop.src.jupyter_gui.jupyter_gui import JupyterUI\n",
    "from portiloop.src.custom.custom_detectors import SleepSpindleRealTimeDetector\n",
    "from portiloop.src.custom.custom_stimulators import (SleepSpindleRealTimeStimulator,\n",
    "                                       SpindleTrainRealTimeStimulator,\n",
    "                                       IsolatedSpindleRealTimeStimulator)\n",
    "\n",
    "my_detector_class = SleepSpindleRealTimeDetector  # you may want to implement yours\n",
    "my_stimulator_class = SleepSpindleRealTimeStimulator  # all spindles\n",
    "# my_stimulator_class = SpindleTrainRealTimeStimulator  # uncomment for spindle trains only\n",
    "# my_stimulator_class = IsolatedSpindleRealTimeStimulator  # uncomment for isolated spindles only\n",
    "\n",
    "cap = JupyterUI(detector_cls=my_detector_class, stimulator_cls=my_stimulator_class)"
   ]
  },
  {
   "cell_type": "code",
   "execution_count": null,
   "id": "f7eaeb32",
   "metadata": {},
   "outputs": [],
   "source": []
  }
 ],
 "metadata": {
  "kernelspec": {
   "display_name": "portiloop",
   "language": "python",
   "name": "python3"
  },
  "language_info": {
   "codemirror_mode": {
    "name": "ipython",
    "version": 3
   },
   "file_extension": ".py",
   "mimetype": "text/x-python",
   "name": "python",
   "nbconvert_exporter": "python",
   "pygments_lexer": "ipython3",
   "version": "3.10.11"
  }
 },
 "nbformat": 4,
 "nbformat_minor": 5
}
