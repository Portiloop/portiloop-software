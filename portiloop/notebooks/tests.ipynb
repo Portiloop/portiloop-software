{
 "cells": [
  {
   "cell_type": "code",
   "execution_count": 1,
   "id": "03282e66",
   "metadata": {
    "scrolled": false
   },
   "outputs": [
    {
     "data": {
      "application/vnd.jupyter.widget-view+json": {
       "model_id": "f95abfd8e0f244f88df551de806c5f53",
       "version_major": 2,
       "version_minor": 0
      },
      "text/plain": [
       "VBox(children=(Dropdown(description='Pipeline:', disabled=True, index=1, options=('Sleep spindles', 'Sleep slo…"
      ]
     },
     "metadata": {},
     "output_type": "display_data"
    },
    {
     "name": "stdout",
     "output_type": "stream",
     "text": [
      "PID start process: 2952. Kill this process if program crashes before end of execution.\n",
      "PID capture: 2953. Kill this process if program crashes before end of execution.\n",
      "SOOnlineFiltering initialized\n"
     ]
    }
   ],
   "source": [
    "# Run this cell to launch the Portiloop Jupyter GUI.\n",
    "\n",
    "from portiloop.src.jupyter_gui.jupyter_gui import JupyterUI\n",
    "\n",
    "cap = JupyterUI()"
   ]
  },
  {
   "cell_type": "code",
   "execution_count": null,
   "id": "f7eaeb32",
   "metadata": {},
   "outputs": [],
   "source": []
  },
  {
   "cell_type": "code",
   "execution_count": null,
   "id": "c41b7a5c",
   "metadata": {},
   "outputs": [],
   "source": []
  }
 ],
 "metadata": {
  "kernelspec": {
   "display_name": "Python 3 (ipykernel)",
   "language": "python",
   "name": "python3"
  },
  "language_info": {
   "codemirror_mode": {
    "name": "ipython",
    "version": 3
   },
   "file_extension": ".py",
   "mimetype": "text/x-python",
   "name": "python",
   "nbconvert_exporter": "python",
   "pygments_lexer": "ipython3",
   "version": "3.7.12"
  }
 },
 "nbformat": 4,
 "nbformat_minor": 5
}
