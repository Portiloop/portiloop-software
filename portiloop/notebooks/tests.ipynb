{
 "cells": [
  {
   "cell_type": "code",
   "execution_count": null,
   "id": "16651843",
   "metadata": {
    "scrolled": false
   },
   "outputs": [],
   "source": [
    "from portiloop.src.capture import Capture\n",
    "from portiloop.src.detection import SleepSpindleRealTimeDetector\n",
    "from portiloop.src.stimulation import (SleepSpindleRealTimeStimulator,\n",
    "                                       SpindleTrainRealTimeStimulator,\n",
    "                                       IsolatedSpindleRealTimeStimulator)\n",
    "\n",
    "my_detector_class = SleepSpindleRealTimeDetector  # you may want to implement yours\n",
    "my_stimulator_class = SleepSpindleRealTimeStimulator  # all spindles\n",
    "# my_stimulator_class = SpindleTrainRealTimeStimulator  # uncomment for spindle trains only\n",
    "# my_stimulator_class = IsolatedSpindleRealTimeStimulator  # uncomment for isolated spindles only\n",
    "\n",
    "cap = Capture(detector_cls=my_detector_class, stimulator_cls=my_stimulator_class)"
   ]
  }
 ],
 "metadata": {
  "kernelspec": {
   "display_name": "Python 3",
   "language": "python",
   "name": "python3"
  },
  "language_info": {
   "codemirror_mode": {
    "name": "ipython",
    "version": 3
   },
   "file_extension": ".py",
   "mimetype": "text/x-python",
   "name": "python",
   "nbconvert_exporter": "python",
   "pygments_lexer": "ipython3",
   "version": "3.7.3"
  },
  "vscode": {
   "interpreter": {
    "hash": "770b75f59a9c369b74cb4cefed633f309c892e213e0ed32eed0937c0a5627480"
   }
  }
 },
 "nbformat": 4,
 "nbformat_minor": 5
}
