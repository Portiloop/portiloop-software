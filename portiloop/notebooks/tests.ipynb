{
 "cells": [
  {
   "cell_type": "code",
   "execution_count": null,
   "id": "4860aa2f",
   "metadata": {},
   "outputs": [],
   "source": [
    "# example to develop new detector/stimulator class in a notebook\n",
    "from portiloop.src.detection import Detector\n",
    "\n",
    "# Define new class and select the register_name in the dropdown menu accordingly\n",
    "class TestDetector(Detector, register_name=\"FakeDetector\"):\n",
    "    def __init__(self):\n",
    "        pass\n",
    "\n",
    "    def detect(self, datapoints):\n",
    "        return [False]*len(datapoints)"
   ]
  },
  {
   "cell_type": "code",
   "execution_count": null,
   "id": "f7eaeb32",
   "metadata": {
    "scrolled": false
   },
   "outputs": [],
   "source": [
    "from portiloop.src.capture import Capture\n",
    "\n",
    "cap = Capture()"
   ]
  },
  {
   "cell_type": "code",
   "execution_count": null,
   "id": "3c78ab13",
   "metadata": {},
   "outputs": [],
   "source": []
  }
 ],
 "metadata": {
  "kernelspec": {
   "display_name": "Python 3 (ipykernel)",
   "language": "python",
   "name": "python3"
  },
  "language_info": {
   "codemirror_mode": {
    "name": "ipython",
    "version": 3
   },
   "file_extension": ".py",
   "mimetype": "text/x-python",
   "name": "python",
   "nbconvert_exporter": "python",
   "pygments_lexer": "ipython3",
   "version": "3.7.12"
  }
 },
 "nbformat": 4,
 "nbformat_minor": 5
}
