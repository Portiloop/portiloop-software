{
 "cells": [
  {
   "cell_type": "code",
   "execution_count": null,
   "id": "7b2fc5da",
   "metadata": {
    "scrolled": false
   },
   "outputs": [],
   "source": [
    "from portiloop.capture import Capture\n",
    "from portiloop.detection import SleepSpindleRealTimeDetector\n",
    "from portiloop.stimulation import SleepSpindleRealTimeStimulator\n",
    "\n",
    "cap = Capture(detector_cls=SleepSpindleRealTimeDetector, stimulator_cls=SleepSpindleRealTimeStimulator)"
   ]
  }
 ],
 "metadata": {
  "kernelspec": {
   "display_name": "Python 3 (ipykernel)",
   "language": "python",
   "name": "python3"
  },
  "language_info": {
   "codemirror_mode": {
    "name": "ipython",
    "version": 3
   },
   "file_extension": ".py",
   "mimetype": "text/x-python",
   "name": "python",
   "nbconvert_exporter": "python",
   "pygments_lexer": "ipython3",
   "version": "3.7.3"
  }
 },
 "nbformat": 4,
 "nbformat_minor": 5
}
