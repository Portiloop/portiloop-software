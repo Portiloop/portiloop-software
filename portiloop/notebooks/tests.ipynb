{
 "cells": [
  {
   "cell_type": "code",
   "execution_count": 1,
   "metadata": {
    "scrolled": false
   },
   "outputs": [
    {
     "name": "stdout",
     "output_type": "stream",
     "text": [
      "Current hardware: ADS1299 4 channels | Portiloop Version: 2\n"
     ]
    },
    {
     "name": "stderr",
     "output_type": "stream",
     "text": [
      "/home/mendel/portiloop-software/portiloop/src/capture.py:339: UserWarning: No ALSA mixer found. Volume control will not be available from notebook.\n",
      "  warnings.warn(f\"No ALSA mixer found. Volume control will not be available from notebook.\")\n"
     ]
    },
    {
     "data": {
      "application/vnd.jupyter.widget-view+json": {
       "model_id": "7c3f1aa6dfa64abfb66336dbe5c751d2",
       "version_major": 2,
       "version_minor": 0
      },
      "text/plain": [
       "VBox(children=(Accordion(children=(GridBox(children=(Label(value='CH1'), Label(value='CH2'), Label(value='CH3'…"
      ]
     },
     "metadata": {},
     "output_type": "display_data"
    }
   ],
   "source": [
    "from portiloop.src.capture import Capture\n",
    "from portiloop.src.detection import SleepSpindleRealTimeDetector\n",
    "from portiloop.src.stimulation import (SleepSpindleRealTimeStimulator,\n",
    "                                       SpindleTrainRealTimeStimulator,\n",
    "                                       IsolatedSpindleRealTimeStimulator)\n",
    "\n",
    "my_detector_class = SleepSpindleRealTimeDetector  # you may want to implement yours\n",
    "my_stimulator_class = SleepSpindleRealTimeStimulator  # all spindles\n",
    "# my_stimulator_class = SpindleTrainRealTimeStimulator  # uncomment for spindle trains only\n",
    "# my_stimulator_class = IsolatedSpindleRealTimeStimulator  # uncomment for isolated spindles only\n",
    "\n",
    "cap = Capture(detector_cls=my_detector_class, stimulator_cls=my_stimulator_class)"
   ]
  },
  {
   "cell_type": "code",
   "execution_count": null,
   "metadata": {},
   "outputs": [],
   "source": []
  }
 ],
 "metadata": {
  "kernelspec": {
   "display_name": "Python 3",
   "language": "python",
   "name": "python3"
  },
  "language_info": {
   "codemirror_mode": {
    "name": "ipython",
    "version": 3
   },
   "file_extension": ".py",
   "mimetype": "text/x-python",
   "name": "python",
   "nbconvert_exporter": "python",
   "pygments_lexer": "ipython3",
   "version": "3.7.3"
  },
  "vscode": {
   "interpreter": {
    "hash": "770b75f59a9c369b74cb4cefed633f309c892e213e0ed32eed0937c0a5627480"
   }
  }
 },
 "nbformat": 4,
 "nbformat_minor": 5
}
