{
 "cells": [
  {
   "cell_type": "code",
   "execution_count": 2,
   "id": "03282e66",
   "metadata": {
    "scrolled": false
   },
   "outputs": [
    {
     "data": {
      "application/vnd.jupyter.widget-view+json": {
       "model_id": "2544f77a3a134377a2a27f3d56e41a60",
       "version_major": 2,
       "version_minor": 0
      },
      "text/plain": [
       "VBox(children=(Dropdown(description='Pipeline:', options=('Sleep spindles', 'Sleep slow oscillations'), style=…"
      ]
     },
     "metadata": {},
     "output_type": "display_data"
    }
   ],
   "source": [
    "# Run this cell to launch the Portiloop Jupyter GUI.\n",
    "\n",
    "from portiloop.src.jupyter_gui.jupyter_gui import JupyterUI\n",
    "\n",
    "cap = JupyterUI()"
   ]
  },
  {
   "cell_type": "code",
   "execution_count": null,
   "id": "f7eaeb32",
   "metadata": {},
   "outputs": [],
   "source": []
  },
  {
   "cell_type": "code",
   "execution_count": null,
   "id": "c41b7a5c",
   "metadata": {},
   "outputs": [],
   "source": []
  }
 ],
 "metadata": {
  "kernelspec": {
   "display_name": "Python 3 (ipykernel)",
   "language": "python",
   "name": "python3"
  },
  "language_info": {
   "codemirror_mode": {
    "name": "ipython",
    "version": 3
   },
   "file_extension": ".py",
   "mimetype": "text/x-python",
   "name": "python",
   "nbconvert_exporter": "python",
   "pygments_lexer": "ipython3",
   "version": "3.7.12"
  }
 },
 "nbformat": 4,
 "nbformat_minor": 5
}
