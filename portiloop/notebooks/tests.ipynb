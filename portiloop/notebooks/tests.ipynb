{
 "cells": [
  {
   "cell_type": "code",
   "execution_count": 1,
   "metadata": {
    "scrolled": false
   },
   "outputs": [
    {
     "data": {
      "application/vnd.jupyter.widget-view+json": {
       "model_id": "2e7a7c5d244f46899bc564c1986d59e9",
       "version_major": 2,
       "version_minor": 0
      },
      "text/plain": [
       "VBox(children=(Accordion(children=(GridBox(children=(Label(value='CH1'), Label(value='CH2'), Label(value='CH3'…"
      ]
     },
     "metadata": {},
     "output_type": "display_data"
    },
    {
     "name": "stdout",
     "output_type": "stream",
     "text": [
      "PID start process: 5121. Kill this process if program crashes before end of execution.\n",
      "PID capture: 5133. Kill this process if program crashes before end of execution.\n",
      "Average frequency: 249.95013153215078 Hz for 1754 samples\n"
     ]
    }
   ],
   "source": [
    "from portiloop.src.capture import Capture\n",
    "from portiloop.src.detection import SleepSpindleRealTimeDetector\n",
    "from portiloop.src.stimulation import (SleepSpindleRealTimeStimulator,\n",
    "                                       SpindleTrainRealTimeStimulator,\n",
    "                                       IsolatedSpindleRealTimeStimulator)\n",
    "\n",
    "my_detector_class = SleepSpindleRealTimeDetector  # you may want to implement yours\n",
    "my_stimulator_class = SleepSpindleRealTimeStimulator  # all spindles\n",
    "# my_stimulator_class = SpindleTrainRealTimeStimulator  # uncomment for spindle trains only\n",
    "# my_stimulator_class = IsolatedSpindleRealTimeStimulator  # uncomment for isolated spindles only\n",
    "\n",
    "cap = Capture(detector_cls=my_detector_class, stimulator_cls=my_stimulator_class)"
   ]
  },
  {
   "cell_type": "code",
   "execution_count": null,
   "metadata": {},
   "outputs": [],
   "source": []
  }
 ],
 "metadata": {
  "kernelspec": {
   "display_name": "Python 3",
   "language": "python",
   "name": "python3"
  },
  "language_info": {
   "codemirror_mode": {
    "name": "ipython",
    "version": 3
   },
   "file_extension": ".py",
   "mimetype": "text/x-python",
   "name": "python",
   "nbconvert_exporter": "python",
   "pygments_lexer": "ipython3",
   "version": "3.7.3"
  },
  "vscode": {
   "interpreter": {
    "hash": "770b75f59a9c369b74cb4cefed633f309c892e213e0ed32eed0937c0a5627480"
   }
  }
 },
 "nbformat": 4,
 "nbformat_minor": 5
}
