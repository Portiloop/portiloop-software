{
 "cells": [
  {
   "cell_type": "code",
   "execution_count": 1,
   "id": "7b2fc5da",
   "metadata": {
    "scrolled": false
   },
   "outputs": [
    {
     "data": {
      "application/vnd.jupyter.widget-view+json": {
       "model_id": "5bd498c14c0b47ef8fc0c7b25d6197c0",
       "version_major": 2,
       "version_minor": 0
      },
      "text/plain": [
       "VBox(children=(Accordion(children=(GridBox(children=(Label(value='CH1'), Label(value='CH2'), Label(value='CH3'…"
      ]
     },
     "metadata": {},
     "output_type": "display_data"
    },
    {
     "name": "stdout",
     "output_type": "stream",
     "text": [
      "DEBUG:/home/mendel/software/portiloop-software/portiloop/sounds/stimulus.wav\n",
      "PID capture: 4311\n",
      "DEBUG: new config[5]:0xe1\n",
      "DEBUG: new config[6]:0xe1\n",
      "DEBUG: new config[7]:0xe1\n",
      "DEBUG: new config[8]:0xe1\n",
      "DEBUG: new config[9]:0xe1\n",
      "DEBUG: new config[10]:0xe1\n",
      "DEBUG: new config[11]:0xe1\n",
      "DEBUG: new config[12]:0xe1\n",
      "DEBUG: new config[13]:0x0\n",
      "DEBUG: new config[14]:0x0\n",
      "DEBUG: new config[3]:0xe8\n"
     ]
    }
   ],
   "source": [
    "from portiloop.capture import Capture\n",
    "from portiloop.detection import SleepSpindleRealTimeDetector\n",
    "from portiloop.stimulation import SleepSpindleRealTimeStimulator\n",
    "\n",
    "my_detector_class = SleepSpindleRealTimeDetector  # you may want to implement yours\n",
    "my_stimulator_class = SleepSpindleRealTimeStimulator  # you may also want to implement yours\n",
    "\n",
    "cap = Capture(detector_cls=my_detector_class, stimulator_cls=my_stimulator_class)"
   ]
  },
  {
   "cell_type": "code",
   "execution_count": null,
   "id": "fd7c79a7",
   "metadata": {},
   "outputs": [],
   "source": []
  }
 ],
 "metadata": {
  "kernelspec": {
   "display_name": "Python 3 (ipykernel)",
   "language": "python",
   "name": "python3"
  },
  "language_info": {
   "codemirror_mode": {
    "name": "ipython",
    "version": 3
   },
   "file_extension": ".py",
   "mimetype": "text/x-python",
   "name": "python",
   "nbconvert_exporter": "python",
   "pygments_lexer": "ipython3",
   "version": "3.7.3"
  }
 },
 "nbformat": 4,
 "nbformat_minor": 5
}
