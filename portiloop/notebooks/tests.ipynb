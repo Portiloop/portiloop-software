{
 "cells": [
  {
   "cell_type": "code",
   "execution_count": null,
   "id": "03282e66",
   "metadata": {},
   "outputs": [],
   "source": [
    "# Run this cell to launch the Portiloop Jupyter GUI.\n",
    "\n",
    "from portiloop.src.jupyter_gui.jupyter_gui import JupyterUI\n",
    "\n",
    "cap = JupyterUI()"
   ]
  },
  {
   "cell_type": "code",
   "execution_count": null,
   "id": "f7eaeb32",
   "metadata": {},
   "outputs": [],
   "source": []
  }
 ],
 "metadata": {
  "kernelspec": {
   "display_name": "Python 3 (ipykernel)",
   "language": "python",
   "name": "python3"
  },
  "language_info": {
   "codemirror_mode": {
    "name": "ipython",
    "version": 3
   },
   "file_extension": ".py",
   "mimetype": "text/x-python",
   "name": "python",
   "nbconvert_exporter": "python",
   "pygments_lexer": "ipython3",
   "version": "3.12.11"
  }
 },
 "nbformat": 4,
 "nbformat_minor": 5
}
